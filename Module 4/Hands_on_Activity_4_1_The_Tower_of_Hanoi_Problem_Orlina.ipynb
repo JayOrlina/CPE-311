{
  "nbformat": 4,
  "nbformat_minor": 0,
  "metadata": {
    "colab": {
      "provenance": []
    },
    "kernelspec": {
      "name": "python3",
      "display_name": "Python 3"
    },
    "language_info": {
      "name": "python"
    }
  },
  "cells": [
    {
      "cell_type": "markdown",
      "source": [
        "#Discussion\n",
        "The Tower of Hanoi is a mathematical puzzle invented by the French mathematician Edouard LucasLinks to an external site. in 1883.\n",
        "\n",
        "There are three pegs, source(A), Auxiliary (B) and Destination(C). Peg A contains a set of disks stacked to resemble a tower, with the largest disk at the bottom and the smallest disk at the top. figure 1 Illustrate the initial configuration of the pegs for 3 disks. The objective is to transfer the entire tower of disks in peg A to peg C maintaining the same order of the disks.\n",
        "\n",
        "Obeying the following rules:\n",
        "\n",
        "Only one disk can be transfer at a time.\n",
        "Each move consists of taking the upper disk from one of the peg and placing it on the top of another peg i.e. a disk can only be moved if it is the uppermost disk of the peg.\n",
        "Never a larger disk is placed on a smaller disk during the transfer.\n",
        "The solution to the puzzle calls for an application of recursive functions and recurrence relations."
      ],
      "metadata": {
        "id": "DBlmzQmCQzQe"
      }
    },
    {
      "cell_type": "code",
      "execution_count": 11,
      "metadata": {
        "colab": {
          "base_uri": "https://localhost:8080/"
        },
        "id": "1bXMT8M_CL3f",
        "outputId": "829395f2-f80c-47ef-9d33-838ba9fb6e81"
      },
      "outputs": [
        {
          "output_type": "stream",
          "name": "stdout",
          "text": [
            "Move Disk  1  from  Source  to  Destination\n",
            "Move Disk  2  from  Source  to  Auxiliary\n",
            "Move Disk  1  from  Destination  to  Auxiliary\n",
            "Move Disk  3  from  Source  to  Destination\n",
            "Move Disk  1  from  Auxiliary  to  Source\n",
            "Move Disk  2  from  Auxiliary  to  Destination\n",
            "Move Disk  1  from  Source  to  Destination\n"
          ]
        }
      ],
      "source": [
        "def TOH( n,  a, b , c):\n",
        "  if(n==1):\n",
        "    print (\"Move Disk \", n ,\" from \", a ,\" to \",c)\n",
        "  else:\n",
        "    TOH(n-1,a,c,b)\n",
        "    print (\"Move Disk \", n ,\" from \", a ,\" to \",c)\n",
        "    TOH(n-1,b,a,c)\n",
        "\n",
        "n = 3\n",
        "TOH(n, \"Source\", \"Auxiliary\", \"Destination\")\n"
      ]
    },
    {
      "cell_type": "markdown",
      "source": [
        "#Procedure\n",
        "1.   Implement the algorithm for the Tower of Hanoi Problem as shown above.\n",
        "2.   Write your observations for your written algorithm/solution.\n",
        "- The function prints the move from the source to the destination immediately when n equals 1. The function breaks the problem down into smaller subproblems for larger n by moving the nth disk directly to the destination, moving the n-1 disks from the auxiliary to the destination using the source as auxiliary, and moving the n-1 disks from the auxiliary to the destination using the source as auxiliary."
      ],
      "metadata": {
        "id": "Rlz0Y5DaPfeX"
      }
    },
    {
      "cell_type": "markdown",
      "source": [
        "#Supplementary Activity\n",
        "\n",
        "1.   Explain the programming paradigms/techniques (like recursion or dynamic programming) that you used to solve the given problem.\n",
        "- For this problem, recursion programming is applied. Recursion makes it possible to decompose complex problems into smaller, more manageable subproblems, which facilitates easier problem solving. Using this method, a function calls itself inside its own definition and keeps going until it reaches the base case.\n",
        "2.   Provide screenshots of the techniques and provide a quick analysis.\n",
        "-![image.png](data:image/png;base64,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)\n",
        "- The function prints the move from the source to the destination immediately when n equals 1. The function breaks the problem down into smaller subproblems for larger n by moving the nth disk directly to the destination, moving the n-1 disks from the auxiliary to the destination using the source as auxiliary, and moving the n-1 disks from the auxiliary to the destination using the source as auxiliary.\n",
        "\n",
        "\n",
        "\n"
      ],
      "metadata": {
        "id": "Kdt_IsV6X489"
      }
    }
  ]
}