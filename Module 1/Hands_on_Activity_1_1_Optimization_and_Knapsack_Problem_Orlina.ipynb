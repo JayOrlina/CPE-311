{
  "cells": [
    {
      "cell_type": "markdown",
      "id": "193686ba",
      "metadata": {
        "id": "193686ba"
      },
      "source": [
        "# Hands-on Activity 1.1 | Optimization and Knapsack Problem"
      ]
    },
    {
      "cell_type": "markdown",
      "id": "8d87e989",
      "metadata": {
        "id": "8d87e989"
      },
      "source": [
        "#### Objective(s):\n",
        "\n",
        "This activity aims to demonstrate how to apply  greedy and brute force algorithms to solve optimization problems"
      ]
    },
    {
      "cell_type": "markdown",
      "id": "7717a27a",
      "metadata": {
        "id": "7717a27a"
      },
      "source": [
        "#### Intended Learning Outcomes (ILOs):\n",
        "* Demonstrate how to solve knapsacks problems using greedy algorithm\n",
        "* Demonstrate how to  solve knapsacks problems using brute force algorithm\n"
      ]
    },
    {
      "cell_type": "markdown",
      "id": "6454cfe7",
      "metadata": {
        "id": "6454cfe7"
      },
      "source": [
        "#### Resources:\n",
        "* Jupyter Notebook\n"
      ]
    },
    {
      "cell_type": "markdown",
      "id": "433711ac",
      "metadata": {
        "id": "433711ac"
      },
      "source": [
        "#### Procedures:"
      ]
    },
    {
      "cell_type": "markdown",
      "id": "e54a8995",
      "metadata": {
        "id": "e54a8995"
      },
      "source": [
        "1. Create a Food class that defines the following:\n",
        "* name of the food\n",
        "* value of the food\n",
        "* calories of the food\n",
        "\n",
        "2. Create the following methods inside the Food class:\n",
        "* A method that returns the value of the food\n",
        "* A method that returns the cost of the food\n",
        "* A method that calculates the density of the food (Value / Cost)\n",
        "* A method that returns a string to display the name, value and calories of the food"
      ]
    },
    {
      "cell_type": "code",
      "execution_count": 9,
      "id": "cdd8310c",
      "metadata": {
        "id": "cdd8310c"
      },
      "outputs": [],
      "source": [
        "class Food(object):\n",
        "    def __init__(self, n, v, w):\n",
        "        # Make the variables private\n",
        "        self.name = n\n",
        "        self.value = v\n",
        "        self.calories = w\n",
        "    def getValue(self):\n",
        "        return self.value\n",
        "    def getCost(self):\n",
        "        return self.calories\n",
        "    def density(self):\n",
        "        return self.getValue()/self.getCost()\n",
        "    def __str__(self):\n",
        "        return self.name + ': <' + str(self.value)+ ', ' + str(self.calories) + '>'"
      ]
    },
    {
      "cell_type": "markdown",
      "id": "b36eee15",
      "metadata": {
        "id": "b36eee15"
      },
      "source": [
        "3. Create a buildMenu method that builds the name, value and calories of the food\n"
      ]
    },
    {
      "cell_type": "code",
      "execution_count": 8,
      "id": "509672a4",
      "metadata": {
        "id": "509672a4"
      },
      "outputs": [],
      "source": [
        "def buildMenu(names, values, calories):\n",
        "    menu = []\n",
        "    for i in range(len(values)):\n",
        "        menu.append(Food(names[i], values[i],calories[i]))\n",
        "    return menu"
      ]
    },
    {
      "cell_type": "markdown",
      "id": "86f3a85b",
      "metadata": {
        "id": "86f3a85b"
      },
      "source": [
        "4. Create a method greedy to return total value and cost of added food based on the desired maximum cost"
      ]
    },
    {
      "cell_type": "code",
      "execution_count": 7,
      "id": "b76912f0",
      "metadata": {
        "id": "b76912f0"
      },
      "outputs": [],
      "source": [
        "def greedy(items, maxCost, keyFunction):\n",
        "    \"\"\"Assumes items a list, maxCost >= 0,         keyFunction maps elements of items to numbers\"\"\"\n",
        "    itemsCopy = sorted(items, key = keyFunction,\n",
        "                       reverse = True)\n",
        "    result = []\n",
        "    totalValue, totalCost = 0.0, 0.0\n",
        "    for i in range(len(itemsCopy)):\n",
        "        if (totalCost+itemsCopy[i].getCost()) <= maxCost:\n",
        "            result.append(itemsCopy[i])\n",
        "            totalCost += itemsCopy[i].getCost()\n",
        "            totalValue += itemsCopy[i].getValue()\n",
        "    return (result, totalValue)"
      ]
    },
    {
      "cell_type": "markdown",
      "id": "887c566c",
      "metadata": {
        "id": "887c566c"
      },
      "source": [
        "5. Create a testGreedy method to test the greedy method"
      ]
    },
    {
      "cell_type": "code",
      "execution_count": 6,
      "id": "61f2a7b0",
      "metadata": {
        "id": "61f2a7b0"
      },
      "outputs": [],
      "source": [
        "def testGreedy(items, constraint, keyFunction):\n",
        "    taken, val = greedy(items, constraint, keyFunction)\n",
        "    print('Total value of items taken =', val)\n",
        "    for item in taken:\n",
        "        print('   ', item)"
      ]
    },
    {
      "cell_type": "code",
      "execution_count": 5,
      "id": "f93e5bfe",
      "metadata": {
        "id": "f93e5bfe"
      },
      "outputs": [],
      "source": [
        "def testGreedys(foods, maxUnits):\n",
        "    print('Use greedy by value to allocate', maxUnits,          'calories')\n",
        "    testGreedy(foods, maxUnits, Food.getValue)\n",
        "    print('\\nUse greedy by cost to allocate', maxUnits,          'calories')\n",
        "    testGreedy(foods, maxUnits, lambda x: 1/Food.getCost(x))\n",
        "    print('\\nUse greedy by density to allocate', maxUnits,          'calories')\n",
        "    testGreedy(foods, maxUnits, Food.density)"
      ]
    },
    {
      "cell_type": "markdown",
      "id": "cdf99f37",
      "metadata": {
        "id": "cdf99f37"
      },
      "source": [
        "6. Create arrays of food name, values and calories\n",
        "7. Call the buildMenu to create menu for food\n",
        "8. Use testGreedys method to pick food according to the desired calories"
      ]
    },
    {
      "cell_type": "code",
      "execution_count": null,
      "id": "ee22c2dd",
      "metadata": {
        "id": "ee22c2dd",
        "outputId": "aaa319a1-ea2d-430c-f675-eae4bc2b32c4",
        "colab": {
          "base_uri": "https://localhost:8080/"
        }
      },
      "outputs": [
        {
          "output_type": "stream",
          "name": "stdout",
          "text": [
            "Use greedy by value to allocate 2000 calories\n",
            "Total value of items taken = 603.0\n",
            "    burger: <100, 354>\n",
            "    pizza: <95, 258>\n",
            "    beer: <90, 154>\n",
            "    fries: <90, 365>\n",
            "    wine: <89, 123>\n",
            "    cola: <79, 150>\n",
            "    apple: <50, 95>\n",
            "    donut: <10, 195>\n",
            "\n",
            "Use greedy by cost to allocate 2000 calories\n",
            "Total value of items taken = 603.0\n",
            "    apple: <50, 95>\n",
            "    wine: <89, 123>\n",
            "    cola: <79, 150>\n",
            "    beer: <90, 154>\n",
            "    donut: <10, 195>\n",
            "    pizza: <95, 258>\n",
            "    burger: <100, 354>\n",
            "    fries: <90, 365>\n",
            "\n",
            "Use greedy by density to allocate 2000 calories\n",
            "Total value of items taken = 603.0\n",
            "    wine: <89, 123>\n",
            "    beer: <90, 154>\n",
            "    cola: <79, 150>\n",
            "    apple: <50, 95>\n",
            "    pizza: <95, 258>\n",
            "    burger: <100, 354>\n",
            "    fries: <90, 365>\n",
            "    donut: <10, 195>\n"
          ]
        }
      ],
      "source": [
        "names = ['wine', 'beer', 'pizza', 'burger', 'fries','cola', 'apple', 'donut', 'cake']\n",
        "values = [89,90,95,100,90,79,50,10]\n",
        "calories = [123,154,258,354,365,150,95,195]\n",
        "foods = buildMenu(names, values, calories)\n",
        "testGreedys(foods, 2000)"
      ]
    },
    {
      "cell_type": "markdown",
      "id": "a6bae808",
      "metadata": {
        "id": "a6bae808"
      },
      "source": [
        "Task 1: Change the maxUnits to 100"
      ]
    },
    {
      "cell_type": "code",
      "execution_count": null,
      "id": "3c9655c5",
      "metadata": {
        "id": "3c9655c5",
        "outputId": "6c020666-85d3-4e8c-b0a6-e386c1c510ae",
        "colab": {
          "base_uri": "https://localhost:8080/"
        }
      },
      "outputs": [
        {
          "output_type": "stream",
          "name": "stdout",
          "text": [
            "Use greedy by value to allocate 100 calories\n",
            "Total value of items taken = 50.0\n",
            "    apple: <50, 95>\n",
            "\n",
            "Use greedy by cost to allocate 100 calories\n",
            "Total value of items taken = 50.0\n",
            "    apple: <50, 95>\n",
            "\n",
            "Use greedy by density to allocate 100 calories\n",
            "Total value of items taken = 50.0\n",
            "    apple: <50, 95>\n"
          ]
        }
      ],
      "source": [
        "#type your code here\n",
        "names = ['wine', 'beer', 'pizza', 'burger', 'fries','cola', 'apple', 'donut', 'cake']\n",
        "values = [89,90,95,100,90,79,50,10]\n",
        "calories = [123,154,258,354,365,150,95,195]\n",
        "foods = buildMenu(names, values, calories)\n",
        "testGreedys(foods, 100)"
      ]
    },
    {
      "cell_type": "markdown",
      "id": "d13f4bdc",
      "metadata": {
        "id": "d13f4bdc"
      },
      "source": [
        "Task 2: Modify codes to add additional weight (criterion) to select food items."
      ]
    },
    {
      "cell_type": "code",
      "execution_count": null,
      "id": "61fd22fa",
      "metadata": {
        "id": "61fd22fa",
        "outputId": "a4d051a3-1756-483f-aa2a-70c88da9ce8d",
        "colab": {
          "base_uri": "https://localhost:8080/"
        }
      },
      "outputs": [
        {
          "output_type": "stream",
          "name": "stdout",
          "text": [
            "Use greedy by value to allocate 3000 calories\n",
            "Total value of items taken = 773.0\n",
            "    bread: <200, 120>\n",
            "    burger: <100, 354>\n",
            "    pizza: <95, 258>\n",
            "    fries: <90, 365>\n",
            "    cola: <79, 150>\n",
            "    orange juice: <60, 124>\n",
            "    apple: <50, 95>\n",
            "    powder mix: <50, 100>\n",
            "    apple juice: <39, 103>\n",
            "    donut: <10, 195>\n",
            "\n",
            "Use greedy by cost to allocate 3000 calories\n",
            "Total value of items taken = 773.0\n",
            "    apple: <50, 95>\n",
            "    powder mix: <50, 100>\n",
            "    apple juice: <39, 103>\n",
            "    bread: <200, 120>\n",
            "    orange juice: <60, 124>\n",
            "    cola: <79, 150>\n",
            "    donut: <10, 195>\n",
            "    pizza: <95, 258>\n",
            "    burger: <100, 354>\n",
            "    fries: <90, 365>\n",
            "\n",
            "Use greedy by density to allocate 3000 calories\n",
            "Total value of items taken = 773.0\n",
            "    bread: <200, 120>\n",
            "    cola: <79, 150>\n",
            "    apple: <50, 95>\n",
            "    powder mix: <50, 100>\n",
            "    orange juice: <60, 124>\n",
            "    apple juice: <39, 103>\n",
            "    pizza: <95, 258>\n",
            "    burger: <100, 354>\n",
            "    fries: <90, 365>\n",
            "    donut: <10, 195>\n"
          ]
        }
      ],
      "source": [
        "# type your code here\n",
        "names = ['apple juice', 'orange juice', 'pizza', 'burger', 'fries','cola', 'apple', 'donut', 'bread', 'powder mix', ]\n",
        "values = [39,60,95,100,90,79,50,10, 200, 50]\n",
        "calories = [103,124,258,354,365,150,95,195, 120, 100]\n",
        "foods = buildMenu(names, values, calories)\n",
        "testGreedys(foods, 3000)"
      ]
    },
    {
      "cell_type": "markdown",
      "id": "ba95a8c6",
      "metadata": {
        "id": "ba95a8c6"
      },
      "source": [
        "Task 3: Test your modified code to test the greedy algorithm to select food items with your additional weight."
      ]
    },
    {
      "cell_type": "code",
      "execution_count": null,
      "id": "9d9b25c1",
      "metadata": {
        "id": "9d9b25c1"
      },
      "outputs": [],
      "source": [
        "# type your code here\n",
        "names = ['wine', 'beer', 'pizza', 'burger', 'fries','cola', 'apple', 'donut', 'cake']\n",
        "values = [89,90,95,100,90,79,50,10]\n",
        "calories = [123,154,258,354,365,150,95,195]\n",
        "foods = buildMenu(names, values, calories)\n",
        "testGreedys(foods, 2000)"
      ]
    },
    {
      "cell_type": "markdown",
      "id": "1baef0aa",
      "metadata": {
        "id": "1baef0aa"
      },
      "source": [
        "9. Create method to use  Bruteforce algorithm instead of greedy algorithm"
      ]
    },
    {
      "cell_type": "code",
      "execution_count": 2,
      "id": "3f61953e",
      "metadata": {
        "id": "3f61953e"
      },
      "outputs": [],
      "source": [
        "def maxVal(toConsider, avail):\n",
        "    \"\"\"Assumes toConsider a list of items, avail a weight\n",
        "       Returns a tuple of the total value of a solution to the\n",
        "         0/1 knapsack problem and the items of that solution\"\"\"\n",
        "    if toConsider == [] or avail == 0:\n",
        "        result = (0, ())\n",
        "    elif toConsider[0].getCost() > avail:\n",
        "        #Explore right branch only\n",
        "        result = maxVal(toConsider[1:], avail)\n",
        "    else:\n",
        "        nextItem = toConsider[0]\n",
        "        #Explore left branch\n",
        "        withVal, withToTake = maxVal(toConsider[1:],\n",
        "                                     avail - nextItem.getCost())\n",
        "        withVal += nextItem.getValue()\n",
        "        #Explore right branch\n",
        "        withoutVal, withoutToTake = maxVal(toConsider[1:], avail)\n",
        "        #Choose better branch\n",
        "        if withVal > withoutVal:\n",
        "            result = (withVal, withToTake + (nextItem,))\n",
        "        else:\n",
        "            result = (withoutVal, withoutToTake)\n",
        "    return result"
      ]
    },
    {
      "cell_type": "code",
      "execution_count": 3,
      "id": "601e6dfe",
      "metadata": {
        "id": "601e6dfe"
      },
      "outputs": [],
      "source": [
        "def testMaxVal(foods, maxUnits, printItems = True):\n",
        "    print('Use search tree to allocate', maxUnits,\n",
        "          'calories')\n",
        "    val, taken = maxVal(foods, maxUnits)\n",
        "    print('Total costs of foods taken =', val)\n",
        "    if printItems:\n",
        "        for item in taken:\n",
        "            print('   ', item)"
      ]
    },
    {
      "cell_type": "code",
      "execution_count": 10,
      "id": "f4c33d92",
      "metadata": {
        "id": "f4c33d92",
        "outputId": "37024491-73b6-4f48-f3e1-fcb776e4fc36",
        "colab": {
          "base_uri": "https://localhost:8080/"
        }
      },
      "outputs": [
        {
          "output_type": "stream",
          "name": "stdout",
          "text": [
            "Use search tree to allocate 2400 calories\n",
            "Total costs of foods taken = 603\n",
            "    donut: <10, 195>\n",
            "    apple: <50, 95>\n",
            "    cola: <79, 150>\n",
            "    fries: <90, 365>\n",
            "    burger: <100, 354>\n",
            "    pizza: <95, 258>\n",
            "    beer: <90, 154>\n",
            "    wine: <89, 123>\n"
          ]
        }
      ],
      "source": [
        "names = ['wine', 'beer', 'pizza', 'burger', 'fries','cola', 'apple', 'donut', 'cake']\n",
        "values = [89,90,95,100,90,79,50,10]\n",
        "calories = [123,154,258,354,365,150,95,195]\n",
        "foods = buildMenu(names, values, calories)\n",
        "testMaxVal(foods, 2400)"
      ]
    },
    {
      "cell_type": "markdown",
      "id": "5e8ee81f",
      "metadata": {
        "id": "5e8ee81f"
      },
      "source": [
        "#### Supplementary Activity:"
      ]
    },
    {
      "cell_type": "markdown",
      "id": "f7eb02e1",
      "metadata": {
        "id": "f7eb02e1"
      },
      "source": [
        "* Choose a real-world problem that solves knapsacks problem\n",
        "* Use the greedy and brute force algorithm to solve knapsacks problem\n"
      ]
    },
    {
      "cell_type": "markdown",
      "source": [
        "* Real-world problem: A family intends to spend three days exploring the various tourist attractions in Quezon Province, and in order to do so, they will need to rent a car. The objective is to find an affordable, roomy rental car that can comfortably fit the entire family.\n",
        "\n"
      ],
      "metadata": {
        "id": "gu_TJqrnVCFk"
      },
      "id": "gu_TJqrnVCFk"
    },
    {
      "cell_type": "markdown",
      "source": [
        "#Using Greedy Algorithm"
      ],
      "metadata": {
        "id": "5-u6udOATlxv"
      },
      "id": "5-u6udOATlxv"
    },
    {
      "cell_type": "code",
      "source": [
        "class car (object):\n",
        "    def __init__(self, n, v, s):\n",
        "        self.name = n\n",
        "        self.value = v\n",
        "        self.seat = s\n",
        "    def getValue(self):\n",
        "        return self.value\n",
        "    def getSeat(self):\n",
        "        return self.seat\n",
        "    def __str__(self):\n",
        "        return self.name + ': Seats:' + str(self.seat) + '   '+ 'Rent Value: ₱' + str(self.value)\n",
        "\n",
        "def buildMenu(names, seats, vals):\n",
        "    menu = []\n",
        "    for i in range(len(seats)):\n",
        "        menu.append(car(names[i], seats[i], vals[i]))\n",
        "    return menu\n",
        "\n",
        "def greedy(items, maxCost, keyFunction):\n",
        "    itemsCopy = sorted(items, key = keyFunction,\n",
        "                       reverse = True)\n",
        "    result = []\n",
        "    totalSeat, totalValue = 0, 0\n",
        "    for i in range(len(itemsCopy)):\n",
        "        if (totalSeat+itemsCopy[i].getSeat()) <= maxCost:\n",
        "            result.append(itemsCopy[i])\n",
        "            totalValue += itemsCopy[i].getValue()\n",
        "            totalSeat += itemsCopy[i].getSeat()\n",
        "    return (result, totalValue)\n",
        "\n",
        "def testGreedy(items, constraint, keyFunction):\n",
        "    taken, st = greedy(items, constraint, keyFunction)\n",
        "    print('Total rent value = ₱',st)\n",
        "    for item in taken:\n",
        "        print('   ', item)\n",
        "\n",
        "def testGreedys(cars, maxUnits):\n",
        "    print('Use greedy by seat to allocate atleast', maxUnits,          'People')\n",
        "    testGreedy(cars, maxUnits, car.getSeat)\n",
        "    print('\\nUse greedy by value to allocate atleast', maxUnits,          'People')\n",
        "    testGreedy(cars, maxUnits, lambda x: 1/car.getValue(x))\n",
        "\n",
        "\n",
        "names = [ 'Montero Sport', 'Civic Sedan', 'NAVARA','Mazda3']\n",
        "vals = [2675,2555,2557,2417]\n",
        "seats = [7,5,5,5]\n",
        "cars = buildMenu(names, vals, seats)\n",
        "testGreedys(cars, 20)"
      ],
      "metadata": {
        "id": "VD2cSiNOvsnb",
        "outputId": "b4fcab64-b88d-4cff-a891-2411aaca38ba",
        "colab": {
          "base_uri": "https://localhost:8080/"
        }
      },
      "id": "VD2cSiNOvsnb",
      "execution_count": 1,
      "outputs": [
        {
          "output_type": "stream",
          "name": "stdout",
          "text": [
            "Use greedy by seat to allocate atleast 20 People\n",
            "Total rent value = ₱ 7787\n",
            "    Montero Sport: Seats:7   Rent Value: ₱2675\n",
            "    Civic Sedan: Seats:5   Rent Value: ₱2555\n",
            "    NAVARA: Seats:5   Rent Value: ₱2557\n",
            "\n",
            "Use greedy by value to allocate atleast 20 People\n",
            "Total rent value = ₱ 7529\n",
            "    Mazda3: Seats:5   Rent Value: ₱2417\n",
            "    Civic Sedan: Seats:5   Rent Value: ₱2555\n",
            "    NAVARA: Seats:5   Rent Value: ₱2557\n"
          ]
        }
      ]
    },
    {
      "cell_type": "markdown",
      "source": [
        "##Using Brute Force Algorithm"
      ],
      "metadata": {
        "id": "pzUhKZgeU0_L"
      },
      "id": "pzUhKZgeU0_L"
    },
    {
      "cell_type": "code",
      "source": [
        "class car (object):\n",
        "    def __init__(self, n, v, s):\n",
        "        self.name = n\n",
        "        self.value = v\n",
        "        self.seat = s\n",
        "    def getValue(self):\n",
        "        return self.value\n",
        "    def getSeat(self):\n",
        "        return self.seat\n",
        "    def __str__(self):\n",
        "        return self.name + ': Seats:' + str(self.seat) + '   '+ 'Rent Value: ₱' + str(self.value)\n",
        "\n",
        "def buildMenu(names, seats, vals):\n",
        "    menu = []\n",
        "    for i in range(len(seats)):\n",
        "        menu.append(car(names[i], seats[i], vals[i]))\n",
        "    return menu\n",
        "\n",
        "def maxVal(toConsider, avail):\n",
        "    \"\"\"Assumes toConsider a list of items, avail a weight\n",
        "       Returns a tuple of the total value of a solution to the\n",
        "         0/1 knapsack problem and the items of that solution\"\"\"\n",
        "    if toConsider == [] or avail == 0:\n",
        "        result = (0, ())\n",
        "    elif toConsider[0].getSeat() > avail:\n",
        "        #Explore right branch only\n",
        "        result = maxVal(toConsider[1:], avail)\n",
        "    else:\n",
        "        nextItem = toConsider[0]\n",
        "        #Explore left branch\n",
        "        withVal, withToTake = maxVal(toConsider[1:],\n",
        "                                     avail - nextItem.getSeat())\n",
        "        withVal += nextItem.getValue()\n",
        "        #Explore right branch\n",
        "        withoutVal, withoutToTake = maxVal(toConsider[1:], avail)\n",
        "        #Choose better branch\n",
        "        if withVal > withoutVal:\n",
        "            result = (withVal, withToTake + (nextItem,))\n",
        "        else:\n",
        "            result = (withoutVal, withoutToTake)\n",
        "    return result\n",
        "\n",
        "def testMaxVal(cars, maxUnits, printItems = True):\n",
        "    print('Use search tree to allocate atleast', maxUnits,\n",
        "          'people')\n",
        "    val, taken = maxVal(cars, maxUnits)\n",
        "    print('Total rent value = ₱', val)\n",
        "    if printItems:\n",
        "        for item in taken:\n",
        "            print('   ', item)\n",
        "\n",
        "names = [ 'Montero Sport', 'Civic Sedan', 'NAVARA','Mazda3']\n",
        "vals = [2675,2555,2557,2417]\n",
        "seats = [7,5,5,5]\n",
        "cars = buildMenu(names, vals, seats)\n",
        "testMaxVal(cars, 20)\n",
        "\n",
        "\n",
        ""
      ],
      "metadata": {
        "id": "egwDdvVjW376",
        "colab": {
          "base_uri": "https://localhost:8080/"
        },
        "outputId": "2af322d1-1539-4fc4-e67e-161e3262ec66"
      },
      "id": "egwDdvVjW376",
      "execution_count": 12,
      "outputs": [
        {
          "output_type": "stream",
          "name": "stdout",
          "text": [
            "Use search tree to allocate atleast 20 people\n",
            "Total rent value = ₱ 7787\n",
            "    NAVARA: Seats:5   Rent Value: ₱2557\n",
            "    Civic Sedan: Seats:5   Rent Value: ₱2555\n",
            "    Montero Sport: Seats:7   Rent Value: ₱2675\n"
          ]
        }
      ]
    },
    {
      "cell_type": "markdown",
      "id": "8bbdd39c",
      "metadata": {
        "id": "8bbdd39c"
      },
      "source": [
        "#### Conclusion:"
      ]
    },
    {
      "cell_type": "markdown",
      "id": "fb608ce3",
      "metadata": {
        "id": "fb608ce3"
      },
      "source": [
        "\n",
        "###The decision of what to write about for this knapsack problem was difficult for me. Since I was solving a knapsack problem for the first time, I found it difficult to debug the code I wrote."
      ]
    },
    {
      "cell_type": "code",
      "execution_count": null,
      "id": "3945391c",
      "metadata": {
        "id": "3945391c"
      },
      "outputs": [],
      "source": []
    }
  ],
  "metadata": {
    "kernelspec": {
      "display_name": "Python 3",
      "language": "python",
      "name": "python3"
    },
    "language_info": {
      "codemirror_mode": {
        "name": "ipython",
        "version": 3
      },
      "file_extension": ".py",
      "mimetype": "text/x-python",
      "name": "python",
      "nbconvert_exporter": "python",
      "pygments_lexer": "ipython3",
      "version": "3.7.10"
    },
    "colab": {
      "provenance": []
    }
  },
  "nbformat": 4,
  "nbformat_minor": 5
}